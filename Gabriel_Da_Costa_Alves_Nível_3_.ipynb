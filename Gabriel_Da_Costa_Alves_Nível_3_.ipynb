{
  "cells": [
    {
      "cell_type": "code",
      "execution_count": null,
      "metadata": {
        "id": "jyc05cgUPglh"
      },
      "outputs": [],
      "source": [
        "\n",
        "def subconjuntos(lista):\n",
        "  return subconjuntos_recursivo([],sorted(lista))\n",
        "\n",
        "def subconjuntos_recursivo(atual,conjunto):\n",
        "  if conjunto:\n",
        "      return subconjuntos_recursivo(atual,conjunto[1:]) + subconjuntos_recursivo(atual + [conjunto[0]], conjunto[1:])\n",
        "  return [atual]\n"
      ]
    },
    {
      "cell_type": "markdown",
      "source": [
        "\n",
        "\n",
        "```\n",
        "Entrada de Dados\n",
        "```\n",
        "\n"
      ],
      "metadata": {
        "id": "ozGNzfLgm7Jf"
      }
    },
    {
      "cell_type": "code",
      "source": [
        "lista = list(input('digite uma lista para ver subconjuntos, não é necessario o uso da virgula '))"
      ],
      "metadata": {
        "id": "0P9oSiH1m4BR"
      },
      "execution_count": null,
      "outputs": []
    },
    {
      "cell_type": "markdown",
      "source": [
        "`Calculos intermediarios`"
      ],
      "metadata": {
        "id": "NrX0iyqrnG3o"
      }
    },
    {
      "cell_type": "code",
      "source": [
        "if lista == str:\n",
        "  resultado = subconjuntos(lista)\n",
        "  print(resultado)\n",
        "elif lista == str < 2:\n",
        "  resultado = subconjuntos(lista)\n",
        "  print(resultado)\n",
        "\n",
        "else:\n",
        "  resultado = subconjuntos(lista)\n",
        "  print(resultado)"
      ],
      "metadata": {
        "id": "7ugdApw-m30a"
      },
      "execution_count": null,
      "outputs": []
    }
  ],
  "metadata": {
    "colab": {
      "provenance": []
    },
    "kernelspec": {
      "display_name": "Python 3",
      "name": "python3"
    },
    "language_info": {
      "name": "python"
    }
  },
  "nbformat": 4,
  "nbformat_minor": 0
}